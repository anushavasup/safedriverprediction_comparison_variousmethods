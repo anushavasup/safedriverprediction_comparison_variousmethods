{
  "nbformat": 4,
  "nbformat_minor": 0,
  "metadata": {
    "kernelspec": {
      "display_name": "Python 3",
      "language": "python",
      "name": "python3"
    },
    "language_info": {
      "codemirror_mode": {
        "name": "ipython",
        "version": 3
      },
      "file_extension": ".py",
      "mimetype": "text/x-python",
      "name": "python",
      "nbconvert_exporter": "python",
      "pygments_lexer": "ipython3",
      "version": "3.7.4"
    },
    "colab": {
      "name": "safedriver_prediction_final.ipynb",
      "provenance": [],
      "include_colab_link": true
    }
  },
  "cells": [
    {
      "cell_type": "markdown",
      "metadata": {
        "id": "view-in-github",
        "colab_type": "text"
      },
      "source": [
        "<a href=\"https://colab.research.google.com/github/anushavasup/safedriverprediction_comparison_variousmethods/blob/main/safedriver_prediction_final.ipynb\" target=\"_parent\"><img src=\"https://colab.research.google.com/assets/colab-badge.svg\" alt=\"Open In Colab\"/></a>"
      ]
    },
    {
      "cell_type": "code",
      "metadata": {
        "colab": {
          "base_uri": "https://localhost:8080/"
        },
        "id": "Y5e63-efdfRx",
        "outputId": "29876650-f1ad-4f43-f0ea-98c565835b45"
      },
      "source": [
        "from google.colab import drive\n",
        "drive.mount('/content/drive')"
      ],
      "execution_count": 10,
      "outputs": [
        {
          "output_type": "stream",
          "text": [
            "Mounted at /content/drive\n"
          ],
          "name": "stdout"
        }
      ]
    },
    {
      "cell_type": "code",
      "metadata": {
        "colab": {
          "base_uri": "https://localhost:8080/",
          "height": 239
        },
        "id": "fFJ2svfweP8R",
        "outputId": "605d5c2b-4853-41b2-d1ff-0bc9ba8e6c50"
      },
      "source": [
        "import pandas as pd\n",
        "import numpy as np\n",
        "import matplotlib.pyplot as plt\n",
        "from sklearn.ensemble import RandomForestClassifier\n",
        "from sklearn.linear_model import LogisticRegression\n",
        "%matplotlib inline\n",
        "Insurance = pd.read_csv(r'/Insurance.csv') \n",
        "print (Insurance.shape)\n",
        "Insurance.head()"
      ],
      "execution_count": 14,
      "outputs": [
        {
          "output_type": "stream",
          "text": [
            "(46414, 59)\n"
          ],
          "name": "stdout"
        },
        {
          "output_type": "execute_result",
          "data": {
            "text/html": [
              "<div>\n",
              "<style scoped>\n",
              "    .dataframe tbody tr th:only-of-type {\n",
              "        vertical-align: middle;\n",
              "    }\n",
              "\n",
              "    .dataframe tbody tr th {\n",
              "        vertical-align: top;\n",
              "    }\n",
              "\n",
              "    .dataframe thead th {\n",
              "        text-align: right;\n",
              "    }\n",
              "</style>\n",
              "<table border=\"1\" class=\"dataframe\">\n",
              "  <thead>\n",
              "    <tr style=\"text-align: right;\">\n",
              "      <th></th>\n",
              "      <th>id</th>\n",
              "      <th>target</th>\n",
              "      <th>ps_ind_01</th>\n",
              "      <th>ps_ind_02_cat</th>\n",
              "      <th>ps_ind_03</th>\n",
              "      <th>ps_ind_04_cat</th>\n",
              "      <th>ps_ind_05_cat</th>\n",
              "      <th>ps_ind_06_bin</th>\n",
              "      <th>ps_ind_07_bin</th>\n",
              "      <th>ps_ind_08_bin</th>\n",
              "      <th>ps_ind_09_bin</th>\n",
              "      <th>ps_ind_10_bin</th>\n",
              "      <th>ps_ind_11_bin</th>\n",
              "      <th>ps_ind_12_bin</th>\n",
              "      <th>ps_ind_13_bin</th>\n",
              "      <th>ps_ind_14</th>\n",
              "      <th>ps_ind_15</th>\n",
              "      <th>ps_ind_16_bin</th>\n",
              "      <th>ps_ind_17_bin</th>\n",
              "      <th>ps_ind_18_bin</th>\n",
              "      <th>ps_reg_01</th>\n",
              "      <th>ps_reg_02</th>\n",
              "      <th>ps_reg_03</th>\n",
              "      <th>ps_car_01_cat</th>\n",
              "      <th>ps_car_02_cat</th>\n",
              "      <th>ps_car_03_cat</th>\n",
              "      <th>ps_car_04_cat</th>\n",
              "      <th>ps_car_05_cat</th>\n",
              "      <th>ps_car_06_cat</th>\n",
              "      <th>ps_car_07_cat</th>\n",
              "      <th>ps_car_08_cat</th>\n",
              "      <th>ps_car_09_cat</th>\n",
              "      <th>ps_car_10_cat</th>\n",
              "      <th>ps_car_11_cat</th>\n",
              "      <th>ps_car_11</th>\n",
              "      <th>ps_car_12</th>\n",
              "      <th>ps_car_13</th>\n",
              "      <th>ps_car_14</th>\n",
              "      <th>ps_car_15</th>\n",
              "      <th>ps_calc_01</th>\n",
              "      <th>ps_calc_02</th>\n",
              "      <th>ps_calc_03</th>\n",
              "      <th>ps_calc_04</th>\n",
              "      <th>ps_calc_05</th>\n",
              "      <th>ps_calc_06</th>\n",
              "      <th>ps_calc_07</th>\n",
              "      <th>ps_calc_08</th>\n",
              "      <th>ps_calc_09</th>\n",
              "      <th>ps_calc_10</th>\n",
              "      <th>ps_calc_11</th>\n",
              "      <th>ps_calc_12</th>\n",
              "      <th>ps_calc_13</th>\n",
              "      <th>ps_calc_14</th>\n",
              "      <th>ps_calc_15_bin</th>\n",
              "      <th>ps_calc_16_bin</th>\n",
              "      <th>ps_calc_17_bin</th>\n",
              "      <th>ps_calc_18_bin</th>\n",
              "      <th>ps_calc_19_bin</th>\n",
              "      <th>ps_calc_20_bin</th>\n",
              "    </tr>\n",
              "  </thead>\n",
              "  <tbody>\n",
              "    <tr>\n",
              "      <th>0</th>\n",
              "      <td>7</td>\n",
              "      <td>0</td>\n",
              "      <td>2</td>\n",
              "      <td>2</td>\n",
              "      <td>5</td>\n",
              "      <td>1</td>\n",
              "      <td>0</td>\n",
              "      <td>0</td>\n",
              "      <td>1</td>\n",
              "      <td>0</td>\n",
              "      <td>0</td>\n",
              "      <td>0</td>\n",
              "      <td>0</td>\n",
              "      <td>0</td>\n",
              "      <td>0</td>\n",
              "      <td>0</td>\n",
              "      <td>11</td>\n",
              "      <td>0</td>\n",
              "      <td>1</td>\n",
              "      <td>0</td>\n",
              "      <td>0.7</td>\n",
              "      <td>0.2</td>\n",
              "      <td>0.718070</td>\n",
              "      <td>10.0</td>\n",
              "      <td>1.0</td>\n",
              "      <td>-1.0</td>\n",
              "      <td>0.0</td>\n",
              "      <td>1.0</td>\n",
              "      <td>4.0</td>\n",
              "      <td>1.0</td>\n",
              "      <td>0.0</td>\n",
              "      <td>0.0</td>\n",
              "      <td>1.0</td>\n",
              "      <td>12.0</td>\n",
              "      <td>2.0</td>\n",
              "      <td>0.400000</td>\n",
              "      <td>0.883679</td>\n",
              "      <td>0.370810</td>\n",
              "      <td>3.605551</td>\n",
              "      <td>0.6</td>\n",
              "      <td>0.5</td>\n",
              "      <td>0.2</td>\n",
              "      <td>3.0</td>\n",
              "      <td>1.0</td>\n",
              "      <td>10.0</td>\n",
              "      <td>1.0</td>\n",
              "      <td>10.0</td>\n",
              "      <td>1.0</td>\n",
              "      <td>5.0</td>\n",
              "      <td>9.0</td>\n",
              "      <td>1.0</td>\n",
              "      <td>5.0</td>\n",
              "      <td>8.0</td>\n",
              "      <td>0.0</td>\n",
              "      <td>1.0</td>\n",
              "      <td>1.0</td>\n",
              "      <td>0.0</td>\n",
              "      <td>0.0</td>\n",
              "      <td>1.0</td>\n",
              "    </tr>\n",
              "    <tr>\n",
              "      <th>1</th>\n",
              "      <td>9</td>\n",
              "      <td>0</td>\n",
              "      <td>1</td>\n",
              "      <td>1</td>\n",
              "      <td>7</td>\n",
              "      <td>0</td>\n",
              "      <td>0</td>\n",
              "      <td>0</td>\n",
              "      <td>0</td>\n",
              "      <td>1</td>\n",
              "      <td>0</td>\n",
              "      <td>0</td>\n",
              "      <td>0</td>\n",
              "      <td>0</td>\n",
              "      <td>0</td>\n",
              "      <td>0</td>\n",
              "      <td>3</td>\n",
              "      <td>0</td>\n",
              "      <td>0</td>\n",
              "      <td>1</td>\n",
              "      <td>0.8</td>\n",
              "      <td>0.4</td>\n",
              "      <td>0.766078</td>\n",
              "      <td>11.0</td>\n",
              "      <td>1.0</td>\n",
              "      <td>-1.0</td>\n",
              "      <td>0.0</td>\n",
              "      <td>-1.0</td>\n",
              "      <td>11.0</td>\n",
              "      <td>1.0</td>\n",
              "      <td>1.0</td>\n",
              "      <td>2.0</td>\n",
              "      <td>1.0</td>\n",
              "      <td>19.0</td>\n",
              "      <td>3.0</td>\n",
              "      <td>0.316228</td>\n",
              "      <td>0.618817</td>\n",
              "      <td>0.388716</td>\n",
              "      <td>2.449490</td>\n",
              "      <td>0.3</td>\n",
              "      <td>0.1</td>\n",
              "      <td>0.3</td>\n",
              "      <td>2.0</td>\n",
              "      <td>1.0</td>\n",
              "      <td>9.0</td>\n",
              "      <td>5.0</td>\n",
              "      <td>8.0</td>\n",
              "      <td>1.0</td>\n",
              "      <td>7.0</td>\n",
              "      <td>3.0</td>\n",
              "      <td>1.0</td>\n",
              "      <td>1.0</td>\n",
              "      <td>9.0</td>\n",
              "      <td>0.0</td>\n",
              "      <td>1.0</td>\n",
              "      <td>1.0</td>\n",
              "      <td>0.0</td>\n",
              "      <td>1.0</td>\n",
              "      <td>0.0</td>\n",
              "    </tr>\n",
              "    <tr>\n",
              "      <th>2</th>\n",
              "      <td>13</td>\n",
              "      <td>0</td>\n",
              "      <td>5</td>\n",
              "      <td>4</td>\n",
              "      <td>9</td>\n",
              "      <td>1</td>\n",
              "      <td>0</td>\n",
              "      <td>0</td>\n",
              "      <td>0</td>\n",
              "      <td>1</td>\n",
              "      <td>0</td>\n",
              "      <td>0</td>\n",
              "      <td>0</td>\n",
              "      <td>0</td>\n",
              "      <td>0</td>\n",
              "      <td>0</td>\n",
              "      <td>12</td>\n",
              "      <td>1</td>\n",
              "      <td>0</td>\n",
              "      <td>0</td>\n",
              "      <td>0.0</td>\n",
              "      <td>0.0</td>\n",
              "      <td>-1.000000</td>\n",
              "      <td>7.0</td>\n",
              "      <td>1.0</td>\n",
              "      <td>-1.0</td>\n",
              "      <td>0.0</td>\n",
              "      <td>-1.0</td>\n",
              "      <td>14.0</td>\n",
              "      <td>1.0</td>\n",
              "      <td>1.0</td>\n",
              "      <td>2.0</td>\n",
              "      <td>1.0</td>\n",
              "      <td>60.0</td>\n",
              "      <td>1.0</td>\n",
              "      <td>0.316228</td>\n",
              "      <td>0.641586</td>\n",
              "      <td>0.347275</td>\n",
              "      <td>3.316625</td>\n",
              "      <td>0.5</td>\n",
              "      <td>0.7</td>\n",
              "      <td>0.1</td>\n",
              "      <td>2.0</td>\n",
              "      <td>2.0</td>\n",
              "      <td>9.0</td>\n",
              "      <td>1.0</td>\n",
              "      <td>8.0</td>\n",
              "      <td>2.0</td>\n",
              "      <td>7.0</td>\n",
              "      <td>4.0</td>\n",
              "      <td>2.0</td>\n",
              "      <td>7.0</td>\n",
              "      <td>7.0</td>\n",
              "      <td>0.0</td>\n",
              "      <td>1.0</td>\n",
              "      <td>1.0</td>\n",
              "      <td>0.0</td>\n",
              "      <td>1.0</td>\n",
              "      <td>0.0</td>\n",
              "    </tr>\n",
              "    <tr>\n",
              "      <th>3</th>\n",
              "      <td>16</td>\n",
              "      <td>0</td>\n",
              "      <td>0</td>\n",
              "      <td>1</td>\n",
              "      <td>2</td>\n",
              "      <td>0</td>\n",
              "      <td>0</td>\n",
              "      <td>1</td>\n",
              "      <td>0</td>\n",
              "      <td>0</td>\n",
              "      <td>0</td>\n",
              "      <td>0</td>\n",
              "      <td>0</td>\n",
              "      <td>0</td>\n",
              "      <td>0</td>\n",
              "      <td>0</td>\n",
              "      <td>8</td>\n",
              "      <td>1</td>\n",
              "      <td>0</td>\n",
              "      <td>0</td>\n",
              "      <td>0.9</td>\n",
              "      <td>0.2</td>\n",
              "      <td>0.580948</td>\n",
              "      <td>7.0</td>\n",
              "      <td>1.0</td>\n",
              "      <td>0.0</td>\n",
              "      <td>0.0</td>\n",
              "      <td>1.0</td>\n",
              "      <td>11.0</td>\n",
              "      <td>1.0</td>\n",
              "      <td>1.0</td>\n",
              "      <td>3.0</td>\n",
              "      <td>1.0</td>\n",
              "      <td>104.0</td>\n",
              "      <td>1.0</td>\n",
              "      <td>0.374166</td>\n",
              "      <td>0.542949</td>\n",
              "      <td>0.294958</td>\n",
              "      <td>2.000000</td>\n",
              "      <td>0.6</td>\n",
              "      <td>0.9</td>\n",
              "      <td>0.1</td>\n",
              "      <td>2.0</td>\n",
              "      <td>4.0</td>\n",
              "      <td>7.0</td>\n",
              "      <td>1.0</td>\n",
              "      <td>8.0</td>\n",
              "      <td>4.0</td>\n",
              "      <td>2.0</td>\n",
              "      <td>2.0</td>\n",
              "      <td>2.0</td>\n",
              "      <td>4.0</td>\n",
              "      <td>9.0</td>\n",
              "      <td>0.0</td>\n",
              "      <td>0.0</td>\n",
              "      <td>0.0</td>\n",
              "      <td>0.0</td>\n",
              "      <td>0.0</td>\n",
              "      <td>0.0</td>\n",
              "    </tr>\n",
              "    <tr>\n",
              "      <th>4</th>\n",
              "      <td>17</td>\n",
              "      <td>0</td>\n",
              "      <td>0</td>\n",
              "      <td>2</td>\n",
              "      <td>0</td>\n",
              "      <td>1</td>\n",
              "      <td>0</td>\n",
              "      <td>1</td>\n",
              "      <td>0</td>\n",
              "      <td>0</td>\n",
              "      <td>0</td>\n",
              "      <td>0</td>\n",
              "      <td>0</td>\n",
              "      <td>0</td>\n",
              "      <td>0</td>\n",
              "      <td>0</td>\n",
              "      <td>9</td>\n",
              "      <td>1</td>\n",
              "      <td>0</td>\n",
              "      <td>0</td>\n",
              "      <td>0.7</td>\n",
              "      <td>0.6</td>\n",
              "      <td>0.840759</td>\n",
              "      <td>11.0</td>\n",
              "      <td>1.0</td>\n",
              "      <td>-1.0</td>\n",
              "      <td>0.0</td>\n",
              "      <td>-1.0</td>\n",
              "      <td>14.0</td>\n",
              "      <td>1.0</td>\n",
              "      <td>1.0</td>\n",
              "      <td>2.0</td>\n",
              "      <td>1.0</td>\n",
              "      <td>82.0</td>\n",
              "      <td>3.0</td>\n",
              "      <td>0.316070</td>\n",
              "      <td>0.565832</td>\n",
              "      <td>0.365103</td>\n",
              "      <td>2.000000</td>\n",
              "      <td>0.4</td>\n",
              "      <td>0.6</td>\n",
              "      <td>0.0</td>\n",
              "      <td>2.0</td>\n",
              "      <td>2.0</td>\n",
              "      <td>6.0</td>\n",
              "      <td>3.0</td>\n",
              "      <td>10.0</td>\n",
              "      <td>2.0</td>\n",
              "      <td>12.0</td>\n",
              "      <td>3.0</td>\n",
              "      <td>1.0</td>\n",
              "      <td>1.0</td>\n",
              "      <td>3.0</td>\n",
              "      <td>0.0</td>\n",
              "      <td>0.0</td>\n",
              "      <td>0.0</td>\n",
              "      <td>1.0</td>\n",
              "      <td>1.0</td>\n",
              "      <td>0.0</td>\n",
              "    </tr>\n",
              "  </tbody>\n",
              "</table>\n",
              "</div>"
            ],
            "text/plain": [
              "   id  target  ps_ind_01  ...  ps_calc_18_bin  ps_calc_19_bin  ps_calc_20_bin\n",
              "0   7       0          2  ...             0.0             0.0             1.0\n",
              "1   9       0          1  ...             0.0             1.0             0.0\n",
              "2  13       0          5  ...             0.0             1.0             0.0\n",
              "3  16       0          0  ...             0.0             0.0             0.0\n",
              "4  17       0          0  ...             1.0             1.0             0.0\n",
              "\n",
              "[5 rows x 59 columns]"
            ]
          },
          "metadata": {
            "tags": []
          },
          "execution_count": 14
        }
      ]
    },
    {
      "cell_type": "code",
      "metadata": {
        "id": "MwXSWvUnZw_t",
        "colab": {
          "base_uri": "https://localhost:8080/",
          "height": 309
        },
        "outputId": "40c8470a-4c07-48e5-e07e-2e17770e95b5"
      },
      "source": [
        "# Graph to show the Higly Imbalanced Data. To Predict the Column ['target']. Right now.. majority of records/rows with 'Target=0'\n",
        "# And few records with 'Target = 1'\n",
        "pd.value_counts(Insurance['target']).plot.bar()\n",
        "plt.title('Target class histogram')\n",
        "plt.xlabel('target')\n"
      ],
      "execution_count": 15,
      "outputs": [
        {
          "output_type": "execute_result",
          "data": {
            "text/plain": [
              "Text(0.5, 0, 'target')"
            ]
          },
          "metadata": {
            "tags": []
          },
          "execution_count": 15
        },
        {
          "output_type": "display_data",
          "data": {
            "image/png": "[encoded data removed]",
            "text/plain": [
              "<Figure size 432x288 with 1 Axes>"
            ]
          },
          "metadata": {
            "tags": [],
            "needs_background": "light"
          }
        }
      ]
    },
    {
      "cell_type": "code",
      "metadata": {
        "id": "Tleoj0VYZw_v",
        "colab": {
          "base_uri": "https://localhost:8080/",
          "height": 202
        },
        "outputId": "9c16f3f1-b6e6-42d7-b5c5-79ed9b3c9843"
      },
      "source": [
        "# Top 5 features with most missing data in training dataset\n",
        "Insurance = Insurance.replace(-1, np.nan)\n",
        "Insurance_missing = Insurance.isnull().sum().sort_values(ascending=False)\n",
        "Insurance_missing = pd.DataFrame(Insurance_missing).reset_index()\n",
        "Insurance_missing.columns = ['Feature', 'Number of Data Records Missing']\n",
        "Insurance_missing.head()"
      ],
      "execution_count": 16,
      "outputs": [
        {
          "output_type": "execute_result",
          "data": {
            "text/html": [
              "<div>\n",
              "<style scoped>\n",
              "    .dataframe tbody tr th:only-of-type {\n",
              "        vertical-align: middle;\n",
              "    }\n",
              "\n",
              "    .dataframe tbody tr th {\n",
              "        vertical-align: top;\n",
              "    }\n",
              "\n",
              "    .dataframe thead th {\n",
              "        text-align: right;\n",
              "    }\n",
              "</style>\n",
              "<table border=\"1\" class=\"dataframe\">\n",
              "  <thead>\n",
              "    <tr style=\"text-align: right;\">\n",
              "      <th></th>\n",
              "      <th>Feature</th>\n",
              "      <th>Number of Data Records Missing</th>\n",
              "    </tr>\n",
              "  </thead>\n",
              "  <tbody>\n",
              "    <tr>\n",
              "      <th>0</th>\n",
              "      <td>ps_car_03_cat</td>\n",
              "      <td>31989</td>\n",
              "    </tr>\n",
              "    <tr>\n",
              "      <th>1</th>\n",
              "      <td>ps_car_05_cat</td>\n",
              "      <td>20655</td>\n",
              "    </tr>\n",
              "    <tr>\n",
              "      <th>2</th>\n",
              "      <td>ps_reg_03</td>\n",
              "      <td>8456</td>\n",
              "    </tr>\n",
              "    <tr>\n",
              "      <th>3</th>\n",
              "      <td>ps_car_14</td>\n",
              "      <td>3341</td>\n",
              "    </tr>\n",
              "    <tr>\n",
              "      <th>4</th>\n",
              "      <td>ps_car_07_cat</td>\n",
              "      <td>830</td>\n",
              "    </tr>\n",
              "  </tbody>\n",
              "</table>\n",
              "</div>"
            ],
            "text/plain": [
              "         Feature  Number of Data Records Missing\n",
              "0  ps_car_03_cat                           31989\n",
              "1  ps_car_05_cat                           20655\n",
              "2      ps_reg_03                            8456\n",
              "3      ps_car_14                            3341\n",
              "4  ps_car_07_cat                             830"
            ]
          },
          "metadata": {
            "tags": []
          },
          "execution_count": 16
        }
      ]
    },
    {
      "cell_type": "code",
      "metadata": {
        "id": "t9ySaGv-Zw_x",
        "colab": {
          "base_uri": "https://localhost:8080/"
        },
        "outputId": "15b0a6ce-9621-42a6-98ad-7b78dfc0dbbc"
      },
      "source": [
        "# drop features 'ps_car_03_cat' and 'ps_car_05_cat'\n",
        "Insurance = Insurance.drop(['ps_car_03_cat', 'ps_car_05_cat'], axis = 1)\n",
        "\n",
        "Insurance.dtypes"
      ],
      "execution_count": 19,
      "outputs": [
        {
          "output_type": "execute_result",
          "data": {
            "text/plain": [
              "id                  int64\n",
              "target              int64\n",
              "ps_ind_01           int64\n",
              "ps_ind_02_cat     float64\n",
              "ps_ind_03           int64\n",
              "ps_ind_04_cat     float64\n",
              "ps_ind_05_cat     float64\n",
              "ps_ind_06_bin       int64\n",
              "ps_ind_07_bin       int64\n",
              "ps_ind_08_bin       int64\n",
              "ps_ind_09_bin       int64\n",
              "ps_ind_10_bin       int64\n",
              "ps_ind_11_bin       int64\n",
              "ps_ind_12_bin       int64\n",
              "ps_ind_13_bin       int64\n",
              "ps_ind_14           int64\n",
              "ps_ind_15           int64\n",
              "ps_ind_16_bin       int64\n",
              "ps_ind_17_bin       int64\n",
              "ps_ind_18_bin       int64\n",
              "ps_reg_01         float64\n",
              "ps_reg_02         float64\n",
              "ps_reg_03         float64\n",
              "ps_car_01_cat     float64\n",
              "ps_car_02_cat     float64\n",
              "ps_car_04_cat     float64\n",
              "ps_car_06_cat     float64\n",
              "ps_car_07_cat     float64\n",
              "ps_car_08_cat     float64\n",
              "ps_car_09_cat     float64\n",
              "ps_car_10_cat     float64\n",
              "ps_car_11_cat     float64\n",
              "ps_car_11         float64\n",
              "ps_car_12         float64\n",
              "ps_car_13         float64\n",
              "ps_car_14         float64\n",
              "ps_car_15         float64\n",
              "ps_calc_01        float64\n",
              "ps_calc_02        float64\n",
              "ps_calc_03        float64\n",
              "ps_calc_04        float64\n",
              "ps_calc_05        float64\n",
              "ps_calc_06        float64\n",
              "ps_calc_07        float64\n",
              "ps_calc_08        float64\n",
              "ps_calc_09        float64\n",
              "ps_calc_10        float64\n",
              "ps_calc_11        float64\n",
              "ps_calc_12        float64\n",
              "ps_calc_13        float64\n",
              "ps_calc_14        float64\n",
              "ps_calc_15_bin    float64\n",
              "ps_calc_16_bin    float64\n",
              "ps_calc_17_bin    float64\n",
              "ps_calc_18_bin    float64\n",
              "ps_calc_19_bin    float64\n",
              "ps_calc_20_bin    float64\n",
              "dtype: object"
            ]
          },
          "metadata": {
            "tags": []
          },
          "execution_count": 19
        }
      ]
    },
    {
      "cell_type": "code",
      "metadata": {
        "id": "339Lk5feZw_y",
        "colab": {
          "base_uri": "https://localhost:8080/",
          "height": 364
        },
        "outputId": "06198380-ecc3-42cd-9089-5183f19c0dc6"
      },
      "source": [
        "# visualize the correlation between remaining features\n",
        "import seaborn as sns\n",
        "corr = Insurance.corr()\n",
        "sns.heatmap(corr)\n",
        "plt.title(\"Correlation Between Features\", fontsize = 14)\n",
        "plt.xticks(rotation = 'vertical')\n",
        "plt.figure(figsize = (20,10), dpi= 110)\n",
        "plt.show()\n"
      ],
      "execution_count": 20,
      "outputs": [
        {
          "output_type": "display_data",
          "data": {
            "image/png": "[encoded data removed]",
            "text/plain": [
              "<Figure size 432x288 with 2 Axes>"
            ]
          },
          "metadata": {
            "tags": [],
            "needs_background": "light"
          }
        },
        {
          "output_type": "display_data",
          "data": {
            "text/plain": [
              "<Figure size 2200x1100 with 0 Axes>"
            ]
          },
          "metadata": {
            "tags": []
          }
        }
      ]
    },
    {
      "cell_type": "code",
      "metadata": {
        "id": "7lAB1H9cZw_z",
        "colab": {
          "base_uri": "https://localhost:8080/"
        },
        "outputId": "12382e5f-eae8-4b0f-c95a-169669e4703f"
      },
      "source": [
        "# drop features with '_calc_' in feature names, because they have low correlation\n",
        "feature_calc = list(Insurance.columns[Insurance.columns.str.contains('_calc_')])\n",
        "Insurance = Insurance.drop(feature_calc, axis = 1)\n",
        "print (Insurance.shape)\n"
      ],
      "execution_count": 21,
      "outputs": [
        {
          "output_type": "stream",
          "text": [
            "(46414, 37)\n"
          ],
          "name": "stdout"
        }
      ]
    },
    {
      "cell_type": "code",
      "metadata": {
        "id": "XwuPjHUxZw_1"
      },
      "source": [
        "# replace missing data in the remaining features\n",
        "feature_bin = [f for f in Insurance.columns if f.endswith('bin')] \n",
        "feature_cat = [f for f in Insurance.columns if f.endswith('cat')] \n",
        "feature_els = [f for f in Insurance.columns if (f not in feature_bin) & (f not in feature_cat) & (f not in ['id', 'target'])]\n"
      ],
      "execution_count": 22,
      "outputs": []
    },
    {
      "cell_type": "code",
      "metadata": {
        "id": "1blKxNf_Zw_3"
      },
      "source": [
        "# filling missing data with mode value for binary and categorical Data.\n",
        "\n",
        "for f in (feature_bin + feature_cat):\n",
        "    Insurance[f].fillna(value=Insurance[f].mode()[0], inplace=True)\n",
        "   \n",
        "# filling missing data with mean value.\n",
        "for f in feature_els:\n",
        "    Insurance[f].fillna(value=Insurance[f].mean(), inplace=True)\n",
        "\n"
      ],
      "execution_count": 23,
      "outputs": []
    },
    {
      "cell_type": "code",
      "metadata": {
        "id": "GaHDC5iAZw_6",
        "colab": {
          "base_uri": "https://localhost:8080/",
          "height": 1000
        },
        "outputId": "8f5bc746-e419-4d10-968d-c51f35052aa1"
      },
      "source": [
        "# Visualize binary features data and categorical features data (for styling, plot only features with 2 unique values)\n",
        "plt.figure(figsize=(20, 20), dpi = 110)\n",
        "\n",
        "count = 0\n",
        "\n",
        "for f in (feature_bin + feature_cat):\n",
        "    if  Insurance[f].nunique() <= 2:\n",
        "        ax = plt.subplot(4,4,count+1)\n",
        "        sns.countplot(Insurance[f])\n",
        "        plt.xlabel(f, fontsize = 14)\n",
        "        plt.ylabel(\"Count\", fontsize = 12)\n",
        "       # plt.ylim(0, 600000)\n",
        "        count += 1\n",
        "        \n",
        "plt.show()\n",
        "\n",
        "# Feature Data Distribution Subplots"
      ],
      "execution_count": 24,
      "outputs": [
        {
          "output_type": "stream",
          "text": [
            "/usr/local/lib/python3.7/dist-packages/seaborn/_decorators.py:43: FutureWarning: Pass the following variable as a keyword arg: x. From version 0.12, the only valid positional argument will be `data`, and passing other arguments without an explicit keyword will result in an error or misinterpretation.\n",
            "  FutureWarning\n",
            "/usr/local/lib/python3.7/dist-packages/seaborn/_decorators.py:43: FutureWarning: Pass the following variable as a keyword arg: x. From version 0.12, the only valid positional argument will be `data`, and passing other arguments without an explicit keyword will result in an error or misinterpretation.\n",
            "  FutureWarning\n",
            "/usr/local/lib/python3.7/dist-packages/seaborn/_decorators.py:43: FutureWarning: Pass the following variable as a keyword arg: x. From version 0.12, the only valid positional argument will be `data`, and passing other arguments without an explicit keyword will result in an error or misinterpretation.\n",
            "  FutureWarning\n",
            "/usr/local/lib/python3.7/dist-packages/seaborn/_decorators.py:43: FutureWarning: Pass the following variable as a keyword arg: x. From version 0.12, the only valid positional argument will be `data`, and passing other arguments without an explicit keyword will result in an error or misinterpretation.\n",
            "  FutureWarning\n",
            "/usr/local/lib/python3.7/dist-packages/seaborn/_decorators.py:43: FutureWarning: Pass the following variable as a keyword arg: x. From version 0.12, the only valid positional argument will be `data`, and passing other arguments without an explicit keyword will result in an error or misinterpretation.\n",
            "  FutureWarning\n",
            "/usr/local/lib/python3.7/dist-packages/seaborn/_decorators.py:43: FutureWarning: Pass the following variable as a keyword arg: x. From version 0.12, the only valid positional argument will be `data`, and passing other arguments without an explicit keyword will result in an error or misinterpretation.\n",
            "  FutureWarning\n",
            "/usr/local/lib/python3.7/dist-packages/seaborn/_decorators.py:43: FutureWarning: Pass the following variable as a keyword arg: x. From version 0.12, the only valid positional argument will be `data`, and passing other arguments without an explicit keyword will result in an error or misinterpretation.\n",
            "  FutureWarning\n",
            "/usr/local/lib/python3.7/dist-packages/seaborn/_decorators.py:43: FutureWarning: Pass the following variable as a keyword arg: x. From version 0.12, the only valid positional argument will be `data`, and passing other arguments without an explicit keyword will result in an error or misinterpretation.\n",
            "  FutureWarning\n",
            "/usr/local/lib/python3.7/dist-packages/seaborn/_decorators.py:43: FutureWarning: Pass the following variable as a keyword arg: x. From version 0.12, the only valid positional argument will be `data`, and passing other arguments without an explicit keyword will result in an error or misinterpretation.\n",
            "  FutureWarning\n",
            "/usr/local/lib/python3.7/dist-packages/seaborn/_decorators.py:43: FutureWarning: Pass the following variable as a keyword arg: x. From version 0.12, the only valid positional argument will be `data`, and passing other arguments without an explicit keyword will result in an error or misinterpretation.\n",
            "  FutureWarning\n",
            "/usr/local/lib/python3.7/dist-packages/seaborn/_decorators.py:43: FutureWarning: Pass the following variable as a keyword arg: x. From version 0.12, the only valid positional argument will be `data`, and passing other arguments without an explicit keyword will result in an error or misinterpretation.\n",
            "  FutureWarning\n",
            "/usr/local/lib/python3.7/dist-packages/seaborn/_decorators.py:43: FutureWarning: Pass the following variable as a keyword arg: x. From version 0.12, the only valid positional argument will be `data`, and passing other arguments without an explicit keyword will result in an error or misinterpretation.\n",
            "  FutureWarning\n",
            "/usr/local/lib/python3.7/dist-packages/seaborn/_decorators.py:43: FutureWarning: Pass the following variable as a keyword arg: x. From version 0.12, the only valid positional argument will be `data`, and passing other arguments without an explicit keyword will result in an error or misinterpretation.\n",
            "  FutureWarning\n",
            "/usr/local/lib/python3.7/dist-packages/seaborn/_decorators.py:43: FutureWarning: Pass the following variable as a keyword arg: x. From version 0.12, the only valid positional argument will be `data`, and passing other arguments without an explicit keyword will result in an error or misinterpretation.\n",
            "  FutureWarning\n",
            "/usr/local/lib/python3.7/dist-packages/seaborn/_decorators.py:43: FutureWarning: Pass the following variable as a keyword arg: x. From version 0.12, the only valid positional argument will be `data`, and passing other arguments without an explicit keyword will result in an error or misinterpretation.\n",
            "  FutureWarning\n"
          ],
          "name": "stderr"
        },
        {
          "output_type": "display_data",
          "data": {
            "image/png": "[encoded data removed]",
            "text/plain": [
              "<Figure size 2200x2200 with 15 Axes>"
            ]
          },
          "metadata": {
            "tags": [],
            "needs_background": "light"
          }
        }
      ]
    },
    {
      "cell_type": "code",
      "metadata": {
        "id": "3E3smddfZw_7",
        "colab": {
          "base_uri": "https://localhost:8080/"
        },
        "outputId": "4f717668-cdd1-4090-d83b-351b66f876b5"
      },
      "source": [
        "# Class count\n",
        "count_class_0, count_class_1 = Insurance.target.value_counts()\n",
        "\n",
        "# Divide by class\n",
        "df_class_0 = Insurance[Insurance['target'] == 0]\n",
        "df_class_1 = Insurance[Insurance['target'] == 1]\n",
        "print('Zero',count_class_0)\n",
        "print('One',count_class_1)"
      ],
      "execution_count": 25,
      "outputs": [
        {
          "output_type": "stream",
          "text": [
            "Zero 44712\n",
            "One 1702\n"
          ],
          "name": "stdout"
        }
      ]
    },
    {
      "cell_type": "code",
      "metadata": {
        "id": "Fm7s9-WnZw_9",
        "colab": {
          "base_uri": "https://localhost:8080/",
          "height": 345
        },
        "outputId": "67d88ca6-1911-4e81-d269-ceb94791398d"
      },
      "source": [
        "# Doing Random Undersampling \n",
        "df_class_0_under = df_class_0.sample(count_class_1)\n",
        "df_test_under = pd.concat([df_class_0_under, df_class_1], axis=0)\n",
        "\n",
        "print('After Random under-sampling:')\n",
        "print(df_test_under.target.value_counts())\n",
        "\n",
        "df_test_under.target.value_counts().plot(kind='bar', title='Count (target)');"
      ],
      "execution_count": 26,
      "outputs": [
        {
          "output_type": "stream",
          "text": [
            "After Random under-sampling:\n",
            "1    1702\n",
            "0    1702\n",
            "Name: target, dtype: int64\n"
          ],
          "name": "stdout"
        },
        {
          "output_type": "display_data",
          "data": {
            "image/png": "[encoded data removed]",
            "text/plain": [
              "<Figure size 432x288 with 1 Axes>"
            ]
          },
          "metadata": {
            "tags": [],
            "needs_background": "light"
          }
        }
      ]
    },
    {
      "cell_type": "code",
      "metadata": {
        "id": "ml4tYgJ9Zw_-",
        "colab": {
          "base_uri": "https://localhost:8080/"
        },
        "outputId": "4d74354b-ae9a-45d5-a923-f21bc6c35f5b"
      },
      "source": [
        "df_test_under.dtypes"
      ],
      "execution_count": 27,
      "outputs": [
        {
          "output_type": "execute_result",
          "data": {
            "text/plain": [
              "id                 int64\n",
              "target             int64\n",
              "ps_ind_01          int64\n",
              "ps_ind_02_cat    float64\n",
              "ps_ind_03          int64\n",
              "ps_ind_04_cat    float64\n",
              "ps_ind_05_cat    float64\n",
              "ps_ind_06_bin      int64\n",
              "ps_ind_07_bin      int64\n",
              "ps_ind_08_bin      int64\n",
              "ps_ind_09_bin      int64\n",
              "ps_ind_10_bin      int64\n",
              "ps_ind_11_bin      int64\n",
              "ps_ind_12_bin      int64\n",
              "ps_ind_13_bin      int64\n",
              "ps_ind_14          int64\n",
              "ps_ind_15          int64\n",
              "ps_ind_16_bin      int64\n",
              "ps_ind_17_bin      int64\n",
              "ps_ind_18_bin      int64\n",
              "ps_reg_01        float64\n",
              "ps_reg_02        float64\n",
              "ps_reg_03        float64\n",
              "ps_car_01_cat    float64\n",
              "ps_car_02_cat    float64\n",
              "ps_car_04_cat    float64\n",
              "ps_car_06_cat    float64\n",
              "ps_car_07_cat    float64\n",
              "ps_car_08_cat    float64\n",
              "ps_car_09_cat    float64\n",
              "ps_car_10_cat    float64\n",
              "ps_car_11_cat    float64\n",
              "ps_car_11        float64\n",
              "ps_car_12        float64\n",
              "ps_car_13        float64\n",
              "ps_car_14        float64\n",
              "ps_car_15        float64\n",
              "dtype: object"
            ]
          },
          "metadata": {
            "tags": []
          },
          "execution_count": 27
        }
      ]
    },
    {
      "cell_type": "code",
      "metadata": {
        "id": "iFIlJcMSZw__",
        "colab": {
          "base_uri": "https://localhost:8080/"
        },
        "outputId": "61c573fb-1e7d-4fdb-dc7a-b03a6dc1aee7"
      },
      "source": [
        "df_test_under.shape"
      ],
      "execution_count": 28,
      "outputs": [
        {
          "output_type": "execute_result",
          "data": {
            "text/plain": [
              "(3404, 37)"
            ]
          },
          "metadata": {
            "tags": []
          },
          "execution_count": 28
        }
      ]
    },
    {
      "cell_type": "code",
      "metadata": {
        "id": "GetkOCpGZxAA",
        "colab": {
          "base_uri": "https://localhost:8080/"
        },
        "outputId": "908912e3-60b0-4dea-c95c-8721fa08de29"
      },
      "source": [
        "# From Now modelling with Undersampled and balanced Data\n",
        "train2=df_test_under\n",
        "y = train2['target']\n",
        "X = train2.drop(['target', 'id'], axis=1)\n",
        "print(X.shape)\n",
        "print(X.dtypes)\n",
        "print(y.shape)"
      ],
      "execution_count": 29,
      "outputs": [
        {
          "output_type": "stream",
          "text": [
            "(3404, 35)\n",
            "ps_ind_01          int64\n",
            "ps_ind_02_cat    float64\n",
            "ps_ind_03          int64\n",
            "ps_ind_04_cat    float64\n",
            "ps_ind_05_cat    float64\n",
            "ps_ind_06_bin      int64\n",
            "ps_ind_07_bin      int64\n",
            "ps_ind_08_bin      int64\n",
            "ps_ind_09_bin      int64\n",
            "ps_ind_10_bin      int64\n",
            "ps_ind_11_bin      int64\n",
            "ps_ind_12_bin      int64\n",
            "ps_ind_13_bin      int64\n",
            "ps_ind_14          int64\n",
            "ps_ind_15          int64\n",
            "ps_ind_16_bin      int64\n",
            "ps_ind_17_bin      int64\n",
            "ps_ind_18_bin      int64\n",
            "ps_reg_01        float64\n",
            "ps_reg_02        float64\n",
            "ps_reg_03        float64\n",
            "ps_car_01_cat    float64\n",
            "ps_car_02_cat    float64\n",
            "ps_car_04_cat    float64\n",
            "ps_car_06_cat    float64\n",
            "ps_car_07_cat    float64\n",
            "ps_car_08_cat    float64\n",
            "ps_car_09_cat    float64\n",
            "ps_car_10_cat    float64\n",
            "ps_car_11_cat    float64\n",
            "ps_car_11        float64\n",
            "ps_car_12        float64\n",
            "ps_car_13        float64\n",
            "ps_car_14        float64\n",
            "ps_car_15        float64\n",
            "dtype: object\n",
            "(3404,)\n"
          ],
          "name": "stdout"
        }
      ]
    },
    {
      "cell_type": "code",
      "metadata": {
        "id": "PXiU3fchZxAB"
      },
      "source": [
        "from sklearn.model_selection import train_test_split\n",
        "X_train,X_test,y_train,y_test= train_test_split(X,y,test_size=0.3,random_state=42) \n"
      ],
      "execution_count": 30,
      "outputs": []
    },
    {
      "cell_type": "code",
      "metadata": {
        "id": "nK0zIzjHZxAB"
      },
      "source": [
        "# Standard Scalar\n",
        "from sklearn.preprocessing import StandardScaler\n",
        "sc = StandardScaler()\n",
        "X_train = sc.fit_transform(X_train)\n",
        "X_test = sc.transform(X_test)\n"
      ],
      "execution_count": 31,
      "outputs": []
    },
    {
      "cell_type": "code",
      "metadata": {
        "id": "i3VKCQi1ZxAB"
      },
      "source": [
        "#Model Number One Logistic Regresssion\n",
        "from sklearn.linear_model import LogisticRegression\n",
        "#classifier = LogisticRegression(class_weight={0:0, 1:1},random_state = 42 ,solver='lbfgs')\n",
        "#classifier = LogisticRegression(class_weight='balanced',random_state = 0 ,solver='lbfgs')\n",
        "classifier = LogisticRegression(random_state = 42 ,solver='lbfgs')\n",
        "classifier.fit(X_train,y_train)\n",
        "\n",
        "y_pred = classifier.predict(X_test)\n",
        "#y_pred "
      ],
      "execution_count": 32,
      "outputs": []
    },
    {
      "cell_type": "code",
      "metadata": {
        "id": "raXvbd7PZxAC",
        "colab": {
          "base_uri": "https://localhost:8080/"
        },
        "outputId": "35d875d2-c88f-4cef-fe74-45dc729c8c87"
      },
      "source": [
        "from sklearn.metrics import confusion_matrix\n",
        "cm=confusion_matrix(y_test,y_pred)\n",
        "print('Confusion Matrix: ', cm)\n",
        "\n",
        "from sklearn.metrics import precision_score\n",
        "pr=precision_score(y_test,y_pred)\n",
        "print('Precision Score: ', pr)\n",
        "\n",
        "from sklearn.metrics import recall_score\n",
        "rc=recall_score(y_test,y_pred)\n",
        "print('Recall Score: ', rc)\n",
        "\n",
        "from sklearn.metrics import accuracy_score\n",
        "ac=accuracy_score(y_test,y_pred)\n",
        "print('Accuracy Score: ', ac)\n",
        "\n",
        "from sklearn.metrics import f1_score\n",
        "Fone=f1_score(y_test,y_pred)\n",
        "print('F1 Score: ',Fone)\n",
        "\n",
        "from sklearn.metrics import classification_report\n",
        "print (classification_report(y_test,y_pred))"
      ],
      "execution_count": 33,
      "outputs": [
        {
          "output_type": "stream",
          "text": [
            "Confusion Matrix:  [[309 217]\n",
            " [222 274]]\n",
            "Precision Score:  0.5580448065173116\n",
            "Recall Score:  0.5524193548387096\n",
            "Accuracy Score:  0.5704500978473581\n",
            "F1 Score:  0.5552178318135764\n",
            "              precision    recall  f1-score   support\n",
            "\n",
            "           0       0.58      0.59      0.58       526\n",
            "           1       0.56      0.55      0.56       496\n",
            "\n",
            "    accuracy                           0.57      1022\n",
            "   macro avg       0.57      0.57      0.57      1022\n",
            "weighted avg       0.57      0.57      0.57      1022\n",
            "\n"
          ],
          "name": "stdout"
        }
      ]
    },
    {
      "cell_type": "code",
      "metadata": {
        "id": "KOuttEZWZxAC"
      },
      "source": [
        "## Predict Proba\n",
        "#y_prob=classifier.predict_proba(X_test)\n",
        "#y_pred_prob=y_prob[:,1]\n",
        "#y_pred_prob=y_pred_prob.astype(int)\n",
        "#accuracy_score(y_test,y_pred_prob)\n",
        "#print (classification_report(y_test,y_pred_prob))\n",
        "## standardization of non categorical features\n",
        "##feature_non_cat = [f for f in train.columns if (f.endswith('cat') != True) & (f not in ['id', 'target'])]\n"
      ],
      "execution_count": null,
      "outputs": []
    },
    {
      "cell_type": "code",
      "metadata": {
        "id": "s122eFoQZxAD",
        "colab": {
          "base_uri": "https://localhost:8080/"
        },
        "outputId": "2b467f25-3f0e-4887-dc80-be4937436484"
      },
      "source": [
        "### Model Number Two Random Forest #####\n",
        "from sklearn.ensemble import RandomForestClassifier\n",
        "rclf = RandomForestClassifier()\n",
        "rclf.fit(X_train,y_train)\n",
        "y_pred_rclf = rclf.predict(X_test)\n",
        "cm_rclf=confusion_matrix(y_test,y_pred_rclf)\n",
        "#print('Confusion Matrix Random Forest:' )\n",
        "#cm_rclf\n",
        "\n",
        "prlf=precision_score(y_test,y_pred_rclf)\n",
        "print('Precision Score Random Forest: ', prlf)\n",
        "\n",
        "rrlf=recall_score(y_test,y_pred_rclf)\n",
        "print('Recall Score Random Forest: ', rrlf)\n",
        "\n",
        "acclf=accuracy_score(y_test,y_pred_rclf)\n",
        "print('Accuracy Score Random Forest: ', acclf)\n",
        "\n",
        "frlf=f1_score(y_test,y_pred_rclf)\n",
        "print('F1 Score Random Forest: ', frlf)\n",
        "\n",
        "print (classification_report(y_test,y_pred_rclf))"
      ],
      "execution_count": 34,
      "outputs": [
        {
          "output_type": "stream",
          "text": [
            "Precision Score Random Forest:  0.5555555555555556\n",
            "Recall Score Random Forest:  0.5645161290322581\n",
            "Accuracy Score Random Forest:  0.5694716242661448\n",
            "F1 Score Random Forest:  0.5599999999999999\n",
            "              precision    recall  f1-score   support\n",
            "\n",
            "           0       0.58      0.57      0.58       526\n",
            "           1       0.56      0.56      0.56       496\n",
            "\n",
            "    accuracy                           0.57      1022\n",
            "   macro avg       0.57      0.57      0.57      1022\n",
            "weighted avg       0.57      0.57      0.57      1022\n",
            "\n"
          ],
          "name": "stdout"
        }
      ]
    },
    {
      "cell_type": "code",
      "metadata": {
        "id": "N8f8kqR7ZxAD"
      },
      "source": [
        "#y_prob_rclf=rclf.predict_proba(X_test)\n",
        "#y_pred_prob_rclf=y_prob_rclf[:,1]\n",
        "#y_pred_prob_rclf=y_pred_prob_rclf.astype(int)\n",
        "#accuracy_score(y_test,y_pred_prob_rclf)\n",
        "#print (classification_report(y_test,y_pred_prob_rclf))"
      ],
      "execution_count": null,
      "outputs": []
    },
    {
      "cell_type": "code",
      "metadata": {
        "id": "XEivMKkvZxAE"
      },
      "source": [
        "# Model Number Three KNeighbors ##\n",
        "\n",
        "from sklearn.neighbors import KNeighborsClassifier\n",
        "classifier = KNeighborsClassifier(n_neighbors=5,metric='minkowski',p=2)\n",
        "classifier.fit(X_train,y_train)\n",
        "from sklearn.metrics import confusion_matrix\n",
        "y_pred=classifier.predict(X_test)\n"
      ],
      "execution_count": 36,
      "outputs": []
    },
    {
      "cell_type": "code",
      "metadata": {
        "id": "-uV9KNfNZxAE",
        "colab": {
          "base_uri": "https://localhost:8080/"
        },
        "outputId": "1668b2ee-f563-4444-fc59-ee187376fe90"
      },
      "source": [
        "from sklearn.metrics import confusion_matrix\n",
        "cmknn=confusion_matrix(y_test,y_pred)\n",
        "cmknn"
      ],
      "execution_count": 37,
      "outputs": [
        {
          "output_type": "execute_result",
          "data": {
            "text/plain": [
              "array([[280, 246],\n",
              "       [226, 270]])"
            ]
          },
          "metadata": {
            "tags": []
          },
          "execution_count": 37
        }
      ]
    },
    {
      "cell_type": "code",
      "metadata": {
        "id": "_MiSn1GWZxAE",
        "colab": {
          "base_uri": "https://localhost:8080/"
        },
        "outputId": "b2d235c8-ea11-4231-e70c-6714dbac49f9"
      },
      "source": [
        "prknn=precision_score(y_test,y_pred)\n",
        "print('Precision Score KNeighbors : ', prknn)\n",
        "\n",
        "rknn=recall_score(y_test,y_pred)\n",
        "print('Recall Score KNeighbors: ', rknn)\n",
        "\n",
        "\n",
        "aknn=accuracy_score(y_test,y_pred)\n",
        "print('Accuracy Score KNeighbors: ', aknn)\n",
        "\n",
        "\n",
        "Fknn=f1_score(y_test,y_pred)\n",
        "print('F1 Score KNeighbors: ',Fknn)\n",
        "\n",
        "print (classification_report(y_test,y_pred))"
      ],
      "execution_count": 38,
      "outputs": [
        {
          "output_type": "stream",
          "text": [
            "Precision Score KNeighbors :  0.5232558139534884\n",
            "Recall Score KNeighbors:  0.5443548387096774\n",
            "Accuracy Score KNeighbors:  0.538160469667319\n",
            "F1 Score KNeighbors:  0.5335968379446641\n",
            "              precision    recall  f1-score   support\n",
            "\n",
            "           0       0.55      0.53      0.54       526\n",
            "           1       0.52      0.54      0.53       496\n",
            "\n",
            "    accuracy                           0.54      1022\n",
            "   macro avg       0.54      0.54      0.54      1022\n",
            "weighted avg       0.54      0.54      0.54      1022\n",
            "\n"
          ],
          "name": "stdout"
        }
      ]
    },
    {
      "cell_type": "code",
      "metadata": {
        "id": "WQ97ck5-ZxAF"
      },
      "source": [
        "# Model Number Four SVM\n",
        "from sklearn.svm import SVC\n",
        "classifierVC=SVC(kernel='linear',random_state=0)\n",
        "classifierVC.fit(X_train,y_train)\n",
        "y_predVC=classifierVC.predict(X_test)\n",
        "\n"
      ],
      "execution_count": 39,
      "outputs": []
    },
    {
      "cell_type": "code",
      "metadata": {
        "id": "_iTifd-OZxAF",
        "colab": {
          "base_uri": "https://localhost:8080/"
        },
        "outputId": "e9bc7e4c-2471-401c-e44f-6c559f390478"
      },
      "source": [
        "prsvc=precision_score(y_test,y_predVC)\n",
        "print('Precision Score SVC : ', prsvc)\n",
        "\n",
        "rsvc=recall_score(y_test,y_predVC)\n",
        "print('Recall Score SVC: ', rsvc)\n",
        "\n",
        "\n",
        "asvc=accuracy_score(y_test,y_predVC)\n",
        "print('Accuracy Score SVC: ', asvc)\n",
        "\n",
        "\n",
        "Fsvc=f1_score(y_test,y_predVC)\n",
        "print('F1 Score SVC: ',Fsvc)\n",
        "\n",
        "print (classification_report(y_test,y_predVC))"
      ],
      "execution_count": 40,
      "outputs": [
        {
          "output_type": "stream",
          "text": [
            "Precision Score SVC :  0.5667396061269147\n",
            "Recall Score SVC:  0.5221774193548387\n",
            "Accuracy Score SVC:  0.5743639921722113\n",
            "F1 Score SVC:  0.5435466946484785\n",
            "              precision    recall  f1-score   support\n",
            "\n",
            "           0       0.58      0.62      0.60       526\n",
            "           1       0.57      0.52      0.54       496\n",
            "\n",
            "    accuracy                           0.57      1022\n",
            "   macro avg       0.57      0.57      0.57      1022\n",
            "weighted avg       0.57      0.57      0.57      1022\n",
            "\n"
          ],
          "name": "stdout"
        }
      ]
    },
    {
      "cell_type": "code",
      "metadata": {
        "id": "bKd5w-eIZxAF"
      },
      "source": [
        "## Model Number Five Decision Tree ## \n",
        "from sklearn.tree import DecisionTreeClassifier\n",
        "\n",
        "clf = DecisionTreeClassifier(criterion = \"entropy\", random_state = 100, \n",
        "            max_depth = 3, min_samples_leaf = 5)\n",
        "\n",
        "\n",
        "\n",
        "# Train Decision Tree Classifer\n",
        "clf = clf.fit(X_train,y_train)\n",
        "\n",
        "#Predict the response for test dataset\n",
        "y_predclf = clf.predict(X_test)\n"
      ],
      "execution_count": 41,
      "outputs": []
    },
    {
      "cell_type": "code",
      "metadata": {
        "id": "e_8cR2KQZxAG",
        "colab": {
          "base_uri": "https://localhost:8080/"
        },
        "outputId": "11352011-8370-48b7-d52f-58054567170d"
      },
      "source": [
        "prdt=precision_score(y_test,y_predclf)\n",
        "print('Precision Score Decision Tree : ', prdt)\n",
        "\n",
        "rdt=recall_score(y_test,y_predclf)\n",
        "print('Recall Score Decision Tree: ', rdt)\n",
        "\n",
        "\n",
        "adt=accuracy_score(y_test,y_predclf)\n",
        "print('Accuracy Score Decision Tree: ', adt)\n",
        "\n",
        "\n",
        "Fdt=f1_score(y_test,y_predclf)\n",
        "print('F1 Score Decision Tree: ',Fdt)\n",
        "\n",
        "print (classification_report(y_test,y_predclf))"
      ],
      "execution_count": 42,
      "outputs": [
        {
          "output_type": "stream",
          "text": [
            "Precision Score Decision Tree :  0.5591647331786543\n",
            "Recall Score Decision Tree:  0.48588709677419356\n",
            "Accuracy Score Decision Tree:  0.5645792563600783\n",
            "F1 Score Decision Tree:  0.5199568500539374\n",
            "              precision    recall  f1-score   support\n",
            "\n",
            "           0       0.57      0.64      0.60       526\n",
            "           1       0.56      0.49      0.52       496\n",
            "\n",
            "    accuracy                           0.56      1022\n",
            "   macro avg       0.56      0.56      0.56      1022\n",
            "weighted avg       0.56      0.56      0.56      1022\n",
            "\n"
          ],
          "name": "stdout"
        }
      ]
    },
    {
      "cell_type": "code",
      "metadata": {
        "id": "oCrc9CKHZxAG"
      },
      "source": [
        ""
      ],
      "execution_count": null,
      "outputs": []
    }
  ]
}